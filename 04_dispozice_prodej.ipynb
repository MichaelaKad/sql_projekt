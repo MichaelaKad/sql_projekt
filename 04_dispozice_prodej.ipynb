{
 "cells": [
  {
   "cell_type": "markdown",
   "id": "1bcfa9a4",
   "metadata": {},
   "source": [
    "## Čištění dat \n",
    "### geolokace / 2+kk a 2+1 / prodeje / sloupec navíc\n",
    "Pro přehlednost a lepši užití v Tableau jsme přejmenovaly geolokace. Dále jsme vybraly pouze byty s dispozicí 2+kk a 2+1 na prodej. Následně jsme odstranily zbývající irelevantní informace z datasetu (konkrétně sloupec subtype, který obsahoval kategorie jako např. fishpond)\n",
    "```sql\n",
    "CREATE OR REPLACE TABLE \"sale_2kk_type\" AS\n",
    "SELECT \n",
    "    DISTINCT \"id\",\n",
    "    \"googleGeometry_location_coordinates_0\" AS \"lon\",\n",
    "    \"googleGeometry_location_coordinates_1\" AS \"lat\",\n",
    "    * EXCLUDE (\"id\", \"googleGeometry_location_coordinates_0\", \"googleGeometry_location_coordinates_1\", \"data_subtype\")\n",
    "FROM \"casti_prahy_2\"\n",
    "WHERE \n",
    "    \"data_offerType\" = 'sale'\n",
    "AND \"data_arrangement\" IN ('2+kk', '2+1')\n",
    "AND \"data_type\" = 'apartment';\n",
    "```"
   ]
  }
 ],
 "metadata": {
  "language_info": {
   "name": "python"
  }
 },
 "nbformat": 4,
 "nbformat_minor": 5
}
