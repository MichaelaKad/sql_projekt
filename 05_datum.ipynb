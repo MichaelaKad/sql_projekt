{
 "cells": [
  {
   "cell_type": "markdown",
   "id": "152175d8",
   "metadata": {},
   "source": [
    "## Čištění dat\n",
    "### Datum\n",
    "Do datasetu jsme vytvořily čitelný formát datumu a také sloupce rok, měsíc, kvartál\n",
    "\n",
    "```sql\n",
    "CREATE OR REPLACE TABLE \"vycistena_tabulka\" AS\n",
    "SELECT \n",
    "  EXTRACT(YEAR FROM TO_TIMESTAMP_NTZ(\"createdAt\")) AS year,\n",
    "  EXTRACT(MONTH FROM TO_TIMESTAMP_NTZ(\"createdAt\")) AS month,\n",
    "  EXTRACT(QUARTER FROM TO_TIMESTAMP_NTZ(\"createdAt\")) AS quarter,\n",
    "  TO_DATE(TO_TIMESTAMP_NTZ(\"createdAt\")) AS created_date,\n",
    "  * EXCLUDE \"createdAt\"\n",
    "FROM \"sale_2kk_type\";\n",
    "```"
   ]
  }
 ],
 "metadata": {
  "language_info": {
   "name": "python"
  }
 },
 "nbformat": 4,
 "nbformat_minor": 5
}
