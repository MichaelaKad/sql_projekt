{
 "cells": [
  {
   "cell_type": "markdown",
   "id": "30c405f1",
   "metadata": {},
   "source": [
    "## SQL kódy pro zodpovězení třetí analytické otázky\n",
    "*👉 Dosáhne modelový pár na hypotéku v roce 2030? Jaké jsou jejich šance vzhledem k jejich mzdě a bude to dostačující i při rostoucí rodině?*\n",
    "\n",
    "**výpočet průměrné plochy bytu**\n",
    "```sql\n",
    "SELECT AVG(\"plocha\")\n",
    "FROM \"reality_mzdy\"\n",
    "WHERE \"plocha\" IS NOT NULL AND \"plocha\" != '';\n",
    "```\n",
    "*→ odpověď: 58 m²*\n",
    "\n",
    "**zobrazení cen bytů o 58 m² v různých městských částech v roce 2024 a 2030**\n",
    "```sql\n",
    "SELECT DISTINCT \"MC_spravne\", \"Cena_2024\", \"Cena_2030\"\n",
    "FROM ALL_2030 AS \"2030\"\n",
    "LEFT JOIN\n",
    "(SELECT \n",
    "    \"MC_spravne\" AS \"MC\", \n",
    "    ROUND(AVG(\"data_price\")) AS \"Cena_2024\",\n",
    "FROM ALL_2030\n",
    "WHERE \n",
    "        \"data_price\" IS NOT NULL\n",
    "    AND \"data_price\" != ''\n",
    "    AND \"plocha\" IS NOT NULL\n",
    "    AND \"plocha\" != ''\n",
    "    AND \"MC_spravne\" IS NOT NULL\n",
    "    AND \"YEAR\" = 2024\n",
    "GROUP BY 1)\n",
    "ON \"MC\" = \"2030\".\"MC_spravne\"\n",
    "WHERE \"MC_spravne\" IS NOT NULL;\n",
    "```"
   ]
  }
 ],
 "metadata": {
  "language_info": {
   "name": "python"
  }
 },
 "nbformat": 4,
 "nbformat_minor": 5
}
