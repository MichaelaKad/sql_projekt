{
 "cells": [
  {
   "cell_type": "markdown",
   "id": "454412ae",
   "metadata": {},
   "source": [
    "## Čištění dat\n",
    "### Oprava sloupce s užitnou plochou\n",
    "Došlo i na opravu rozbitého sloupce s užitnou plochou - pomocí napojení správného sloupce s plochou bytů z původní tabulky\n",
    "\n",
    "```sql\n",
    "CREATE OR REPLACE TABLE vycistena_tabulka_oprava AS(\n",
    "\n",
    "WITH unikatni_items AS (\n",
    "    SELECT DISTINCT \"id\", \"data_livingArea\"\n",
    "    FROM \"dataset-items\"\n",
    ")\n",
    "\n",
    "SELECT \n",
    "    v.* EXCLUDE \"data_livingArea\",\n",
    "    u.\"data_livingArea\" AS \"plocha\"\n",
    "FROM \"vycistena_tabulka\" v\n",
    "LEFT JOIN unikatni_items u\n",
    "    ON v.\"id\" = u.\"id\");\n",
    "```"
   ]
  }
 ],
 "metadata": {
  "language_info": {
   "name": "python"
  }
 },
 "nbformat": 4,
 "nbformat_minor": 5
}
