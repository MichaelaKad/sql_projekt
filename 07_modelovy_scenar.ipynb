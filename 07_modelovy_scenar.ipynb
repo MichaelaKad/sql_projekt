{
 "cells": [
  {
   "cell_type": "markdown",
   "id": "9c8feb1b",
   "metadata": {},
   "source": [
    "## SQL kódy využité pro stanovení modelového scénáře \n",
    "\n",
    "**nejčastější dispozice bytů**\n",
    "```sql\n",
    "SELECT \"data_arrangement\", COUNT(*)\n",
    "FROM \"casti_prahy_2\"\n",
    "WHERE \"data_arrangement\" != ''\n",
    "GROUP BY 1\n",
    "ORDER BY 2 DESC;\n",
    "```\n",
    "*→ odpověď: 2+kk*\n",
    "\n",
    "**průměrný nájem pro 2+kk**\n",
    "```sql\n",
    "SELECT AVG(\"data_price\")\n",
    "FROM \"casti_prahy_2\"\n",
    "WHERE \"data_offerType\" = 'rent' \n",
    "    AND \"data_arrangement\" IN ('2+kk')\n",
    "    AND \"data_price\" IS NOT NULL\n",
    "    AND \"data_price\" != '';\n",
    "```\n",
    "*→ odpověď: 19 191 Kč nájem* \\\n",
    "*k tomu byly přičteny poplatky zhruba 3 000 Kč → celkem tedy 22 000 Kč za měsíc*"
   ]
  }
 ],
 "metadata": {
  "language_info": {
   "name": "python"
  }
 },
 "nbformat": 4,
 "nbformat_minor": 5
}
