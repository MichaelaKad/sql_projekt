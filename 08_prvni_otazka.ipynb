{
 "cells": [
  {
   "cell_type": "markdown",
   "id": "fc116e2f",
   "metadata": {},
   "source": [
    "## SQL kódy pro zodpovězení první analytické otázky \n",
    "*👉 Jaké jsou aktuální průměrné ceny za m² v jednotlivých částech Prahy (2024)?*\n",
    "\n",
    "```sql\n",
    "SELECT\n",
    "    \"MC_spravne\",\n",
    "    ROUND(AVG(\"data_price\"/\"plocha\")) AS \"prumerna_cena_na_m2\"\n",
    "FROM \"vycistena_tabulka_oprava_2\"\n",
    "WHERE \n",
    "        \"data_price\" IS NOT NULL\n",
    "    AND \"data_price\" != ''\n",
    "    AND \"plocha\" IS NOT NULL\n",
    "    AND \"plocha\" != ''\n",
    "    AND YEAR = 2024\n",
    "GROUP BY \"MC_spravne\"\n",
    "ORDER BY \"prumerna_cena_na_m2\" DESC;\n",
    "```\n"
   ]
  }
 ],
 "metadata": {
  "language_info": {
   "name": "python"
  }
 },
 "nbformat": 4,
 "nbformat_minor": 5
}
