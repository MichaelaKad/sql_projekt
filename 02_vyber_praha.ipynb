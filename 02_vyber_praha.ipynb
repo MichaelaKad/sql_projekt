{
 "cells": [
  {
   "cell_type": "markdown",
   "id": "437d72a7",
   "metadata": {},
   "source": [
    "## Čištění dat\n",
    "### Výběr dat pouze z Prahy\n",
    "```sql\n",
    "CREATE OR REPLACE TABLE \"dataset-praha\" AS\n",
    "SELECT \n",
    "    \"id\", \n",
    "    \"createdAt\", \n",
    "    \"data_arrangement\", \n",
    "    \"data_balcony\", \n",
    "    \"data_barrierFree\",\n",
    "    \"data_buildingType\",\n",
    "    \"data_district\",\n",
    "    \"data_equipment\",\n",
    "    \"data_floor\",\n",
    "    \"data_garage\",\n",
    "    \"data_garden\",\n",
    "    \"data_gpsBounds_northeast_lat\",\n",
    "    \"data_gpsBounds_northeast_lon\",\n",
    "    \"data_gpsBounds_southwest_lat\",\n",
    "    \"data_gpsBounds_southwest_lon\",\n",
    "    \"data_gpsCoord_lat\",\n",
    "    \"data_gpsCoord_lon\",\n",
    "    \"data_gpsCoordType\"\n",
    "    \"data_livingArea\",\n",
    "    \"data_loggia\",\n",
    "    \"data_neighborhood\",\n",
    "    \"data_offerType\",\n",
    "    \"data_ownership\",\n",
    "    \"data_parking\",\n",
    "    \"data_price\",\n",
    "    \"data_priceTotal\",\n",
    "    \"data_priceType\",\n",
    "    \"data_propertyState\",\n",
    "    \"data_storage\",\n",
    "    \"data_street\",\n",
    "    \"data_subtype\",\n",
    "    \"data_terrace\",\n",
    "    \"data_type\",\n",
    "    \"googleGeometry\",\n",
    "    \"googleGeometry_location_coordinates_0\",\n",
    "    \"googleGeometry_location_coordinates_1\",\n",
    "    \"googleGeometry_location_type\"\n",
    "FROM \"dataset-items\"\n",
    "WHERE \"data_city\" = 'Praha';\n",
    "```"
   ]
  }
 ],
 "metadata": {
  "language_info": {
   "name": "python"
  }
 },
 "nbformat": 4,
 "nbformat_minor": 5
}
